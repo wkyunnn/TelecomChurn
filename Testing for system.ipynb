{
 "cells": [
  {
   "cell_type": "code",
   "execution_count": 2,
   "metadata": {},
   "outputs": [
    {
     "name": "stdout",
     "output_type": "stream",
     "text": [
      "0\n"
     ]
    }
   ],
   "source": [
    "import pandas as pd\n",
    "import numpy as np\n",
    "from sklearn.model_selection import train_test_split\n",
    "from sklearn.preprocessing import OneHotEncoder, StandardScaler\n",
    "from sklearn.impute import SimpleImputer\n",
    "from sklearn.feature_selection import SelectKBest, mutual_info_classif, RFE\n",
    "from sklearn.model_selection import train_test_split, GridSearchCV\n",
    "from sklearn.linear_model import LogisticRegression\n",
    "from sklearn.pipeline import Pipeline\n",
    "import joblib\n",
    "\n",
    "# Load the dataset\n",
    "dataset_path = \"C:/Users/user/Documents/APU FYP/Dataset/cell2celltrain.csv\"\n",
    "df = pd.read_csv(dataset_path)\n",
    "\n",
    "# Handle missing values\n",
    "# For numerical columns, fill with median\n",
    "num_imputer = SimpleImputer(strategy='median')\n",
    "df[df.select_dtypes(include=['float64', 'int64']).columns] = num_imputer.fit_transform(df.select_dtypes(include=['float64', 'int64']))\n",
    "\n",
    "# For categorical columns, fill with mode\n",
    "cat_imputer = SimpleImputer(strategy='most_frequent')\n",
    "df[df.select_dtypes(include=['object']).columns] = cat_imputer.fit_transform(df.select_dtypes(include=['object']))\n",
    "\n",
    "# Check for NaN values in the target variable 'Churn'\n",
    "print(df['Churn'].isna().sum())\n",
    "\n",
    "# Drop rows where the target variable is NaN\n",
    "df.dropna(subset=['Churn'], inplace=True)\n",
    "\n",
    "# Convert target variable 'Churn' to binary\n",
    "df['Churn'] = df['Churn'].map({'Yes': 1, 'No': 0})\n",
    "\n",
    "# Separate features and target\n",
    "X = df.drop(['CustomerID', 'Churn'], axis=1)\n",
    "y = df['Churn']\n",
    "\n",
    "# One-hot encode categorical variables\n",
    "X = pd.get_dummies(X, drop_first=True)\n",
    "\n",
    "# Split the data into training and testing sets\n",
    "X_train, X_test, y_train, y_test = train_test_split(X, y, test_size=0.3, random_state=42)\n",
    "\n",
    "# Scale the features\n",
    "scaler = StandardScaler()\n",
    "X_train = scaler.fit_transform(X_train)\n",
    "X_test = scaler.transform(X_test)\n"
   ]
  },
  {
   "cell_type": "code",
   "execution_count": 3,
   "metadata": {},
   "outputs": [
    {
     "name": "stdout",
     "output_type": "stream",
     "text": [
      "Selected features based on mutual information: ['MonthlyMinutes', 'ReceivedCalls', 'MonthsInService', 'CurrentEquipmentDays', 'RetentionCalls', 'ServiceArea_AIRMYR843', 'ServiceArea_BOSNSH603', 'ServiceArea_HARLON860', 'ServiceArea_KCYKCK913', 'ServiceArea_OHILAN740', 'ServiceArea_OKCLRK501', 'ServiceArea_PHIBRI856', 'ServiceArea_PHXTUC520', 'ServiceArea_SEAMTV360', 'ServiceArea_SFRPAL650', 'ServiceArea_SFRSFS650', 'HandsetPrice_100', 'HandsetPrice_Unknown', 'CreditRating_2-High', 'Occupation_Other']\n"
     ]
    }
   ],
   "source": [
    "# Apply feature selection\n",
    "selector = SelectKBest(score_func=mutual_info_classif, k=20)  # Selecting top 20 features based on mutual information\n",
    "X_train_selected = selector.fit_transform(X_train, y_train)\n",
    "X_test_selected = selector.transform(X_test)\n",
    "\n",
    "# Get the selected feature names\n",
    "selected_features = X.columns[selector.get_support()].tolist()\n",
    "print(\"Selected features based on mutual information:\", selected_features)\n"
   ]
  },
  {
   "cell_type": "code",
   "execution_count": 4,
   "metadata": {},
   "outputs": [
    {
     "name": "stdout",
     "output_type": "stream",
     "text": [
      "Final selected features after RFE: ['MonthlyMinutes', 'ReceivedCalls', 'MonthsInService', 'CurrentEquipmentDays', 'RetentionCalls', 'ServiceArea_PHIBRI856', 'ServiceArea_SEAMTV360', 'HandsetPrice_Unknown', 'CreditRating_2-High', 'Occupation_Other']\n",
      "Train Accuracy:  0.7116310310086197\n",
      "Test Accuracy:  0.7104799216454456\n"
     ]
    },
    {
     "data": {
      "text/plain": [
       "['churn_model.pkl']"
      ]
     },
     "execution_count": 4,
     "metadata": {},
     "output_type": "execute_result"
    }
   ],
   "source": [
    "from sklearn.model_selection import train_test_split, GridSearchCV\n",
    "\n",
    "# Apply RFE\n",
    "model = LogisticRegression(max_iter=1000, solver='liblinear')\n",
    "rfe = RFE(model, n_features_to_select=10)\n",
    "X_train_rfe = rfe.fit_transform(X_train_selected, y_train)\n",
    "X_test_rfe = rfe.transform(X_test_selected)\n",
    "\n",
    "# Get the final selected feature names\n",
    "final_selected_features = np.array(selected_features)[rfe.support_].tolist()\n",
    "print(\"Final selected features after RFE:\", final_selected_features)\n",
    "\n",
    "# Train the final model with regularization\n",
    "pipeline = Pipeline([\n",
    "    ('scaler', StandardScaler()),\n",
    "    ('model', LogisticRegression(penalty='l2', solver='liblinear', max_iter=1000))\n",
    "])\n",
    "\n",
    "# Hyperparameter tuning\n",
    "param_grid = {\n",
    "    'model__C': [0.01, 0.1, 1, 10, 100]\n",
    "}\n",
    "grid_search = GridSearchCV(pipeline, param_grid, cv=5, scoring='accuracy')\n",
    "grid_search.fit(X_train_rfe, y_train)\n",
    "\n",
    "best_model = grid_search.best_estimator_\n",
    "\n",
    "# Evaluate the model\n",
    "from sklearn.metrics import accuracy_score\n",
    "y_train_pred = best_model.predict(X_train_rfe)\n",
    "y_test_pred = best_model.predict(X_test_rfe)\n",
    "\n",
    "train_accuracy = accuracy_score(y_train, y_train_pred)\n",
    "test_accuracy = accuracy_score(y_test, y_test_pred)\n",
    "\n",
    "print(\"Train Accuracy: \", train_accuracy)\n",
    "print(\"Test Accuracy: \", test_accuracy)\n",
    "\n",
    "# Save the final model\n",
    "joblib.dump(best_model, 'churn_model.pkl')\n"
   ]
  },
  {
   "cell_type": "code",
   "execution_count": 5,
   "metadata": {},
   "outputs": [],
   "source": [
    "import joblib\n",
    "\n",
    "# Load the trained model\n",
    "model = joblib.load('churn_model.pkl')\n",
    "\n",
    "# Use the model to make predictions\n",
    "# input_data should be in the same format as your training data\n",
    "# prediction = model.predict(input_data)\n"
   ]
  }
 ],
 "metadata": {
  "kernelspec": {
   "display_name": "Python 3",
   "language": "python",
   "name": "python3"
  },
  "language_info": {
   "codemirror_mode": {
    "name": "ipython",
    "version": 3
   },
   "file_extension": ".py",
   "mimetype": "text/x-python",
   "name": "python",
   "nbconvert_exporter": "python",
   "pygments_lexer": "ipython3",
   "version": "3.12.4"
  }
 },
 "nbformat": 4,
 "nbformat_minor": 2
}
